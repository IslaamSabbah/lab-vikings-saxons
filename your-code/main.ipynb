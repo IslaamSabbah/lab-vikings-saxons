{
 "cells": [
  {
   "cell_type": "markdown",
   "metadata": {},
   "source": [
    "# Lab | Classes: Vikings vs Saxons\n",
    "\n",
    "The Vikings and Saxons are at war. The moment to fight has come!"
   ]
  },
  {
   "cell_type": "markdown",
   "metadata": {},
   "source": [
    "<div style=\"text-align:center\">\n",
    "  <img src=\"https://media.giphy.com/media/3o7qDLwhxkGTMvDHws/giphy.gif\" width=400px>\n",
    "</div>"
   ]
  },
  {
   "cell_type": "markdown",
   "metadata": {},
   "source": [
    "### Import module\n",
    "To go to war, you need brave soldiers. \n",
    "\n",
    "**Import `soldiers` from module `battle`. Use `bs` as an alias for your import. You'll also need module `random`. Import both of them in the cell below.**"
   ]
  },
  {
   "cell_type": "code",
   "execution_count": 4,
   "metadata": {},
   "outputs": [],
   "source": [
    "# your code here\n",
    "\n",
    "from battle import soldiers as bs\n",
    "import random"
   ]
  },
  {
   "cell_type": "code",
   "execution_count": 2,
   "metadata": {},
   "outputs": [
    {
     "name": "stdout",
     "output_type": "stream",
     "text": "(7, 3, 4)\n"
    },
    {
     "data": {
      "text/plain": "(7, 3, 4)"
     },
     "execution_count": 2,
     "metadata": {},
     "output_type": "execute_result"
    }
   ],
   "source": [
    "def supersuma(num1,num2):\n",
    "    num = num1+num2\n",
    "    return num,num1,num2\n",
    "variable2 = supersuma(3,4)\n",
    "print(variable2)\n",
    "variable2"
   ]
  },
  {
   "cell_type": "markdown",
   "metadata": {},
   "source": [
    "Now, follow the instructions to create a simulation of the war.\n",
    "\n",
    "### Define functions\n",
    "\n",
    "**Create two empty lists called `viking_army` and `saxon_army`.**\n",
    "\n",
    "These lists will store the soldiers of each army. "
   ]
  },
  {
   "cell_type": "code",
   "execution_count": 5,
   "metadata": {},
   "outputs": [],
   "source": [
    "# your code here\n",
    "viking_army=[]\n",
    "saxon_army=[]"
   ]
  },
  {
   "cell_type": "markdown",
   "metadata": {},
   "source": [
    "**Define two functions called `add_viking` and `add_saxon`.** \n",
    "\n",
    "These functions will add soldiers to each army. The requirements that `add_viking` and `add_saxon` must meet are:\n",
    "\n",
    "* **add_viking**\n",
    "    - Must receive a `Viking` object as an argument.\n",
    "    - Must add the `Viking` to the `viking_army`. \n",
    "    \n",
    "* **add_saxon**\n",
    "    - Must receive a `Saxon` object as an argument.\n",
    "    - Must add the `Saxon` to the `saxon_army`. "
   ]
  },
  {
   "cell_type": "code",
   "execution_count": 6,
   "metadata": {},
   "outputs": [],
   "source": [
    "# your code here\n",
    "def add_viking(Viking):\n",
    "    viking_army.append(Viking)\n",
    "def add_saxon(Saxon):\n",
    "    saxon_army.append(Saxon)"
   ]
  },
  {
   "cell_type": "markdown",
   "metadata": {},
   "source": [
    "**Define two functions called `viking_attack` and `saxon_attack`.** \n",
    "\n",
    "These functions will choose one random soldier to attack one random soldier of the opposite army. The requirements that `viking_attack` and `saxon_attack` must meet are:\n",
    "\n",
    "* **viking_attack**\n",
    "    - Must choose a `Viking` object from the `viking_army` at random.\n",
    "    - Must choose a `Saxon` object from the `saxon_army` at random. \n",
    "    - Must make the `Saxon` receive damage equal to the `strength` of the `Viking`. \n",
    "    - Must remove the `Saxon` from the army if he or she dies.\n",
    "    - Must return the result of calling the `receive_damage` method of the `Saxon`. \n",
    "    \n",
    "* **saxon_attack**\n",
    "    - Must choose a `Viking` object from the `viking_army` at random.\n",
    "    - Must choose a `Saxon` object from the `saxon_army` at random. \n",
    "    - Must make the `Viking` receive damage equal to the `strength` of the `Saxon`. \n",
    "    - Must remove the `Viking` from the army if he or she dies.\n",
    "    - Must return the result of calling the `receive_damage` method of the `Viking`."
   ]
  },
  {
   "cell_type": "code",
   "execution_count": 7,
   "metadata": {},
   "outputs": [],
   "source": [
    "# your code here\n",
    "def viking_attack():\n",
    "    v=random.choice(viking_army)\n",
    "    s=random.choice(saxon_army)\n",
    "    s.recieve_damage(int(v.strength))\n",
    "    print(int(s.strenght))\n",
    "    if s.health<0:\n",
    "        saxon_army.remove(s)\n",
    "\n",
    "def saxon_attack():\n",
    "    v=random.choice(viking_army)\n",
    "    s=random.choice(saxon_army)\n",
    "    v.recieve_damage(int(s.strength))\n",
    "    print(int(v.strength))\n",
    "    if v.health<0:\n",
    "        viking_army.remove(v)\n",
    "       "
   ]
  },
  {
   "cell_type": "markdown",
   "metadata": {},
   "source": [
    "**Define a function called `show_status`.**\n",
    "This function will show the current status of the war. The requirements that `show_status` must meet are:\n",
    "\n",
    "* **show_status**\n",
    "    - If the `Saxon` list is empty, must return \"Vikings live to fight another day!\"\n",
    "    - If the `Viking` list is empty, must return \"Saxons are the last ones standing! \"\n",
    "    - If there are at least one `Viking` and one `Saxon`, must return \"Vikings and Saxons are still in the thick of battle.\"\n"
   ]
  },
  {
   "cell_type": "code",
   "execution_count": 8,
   "metadata": {},
   "outputs": [],
   "source": [
    "# your code here\n",
    "Flag=True\n",
    "def show_status():\n",
    "    if len(saxon_army)==0:\n",
    "        print(\"vikings live to fight another day\")\n",
    "        Flag= False\n",
    "    elif len(viking_army==0):\n",
    "        print(\"saxons are the last one standing\")\n",
    "        Flag= False\n",
    "    else :\n",
    "        print(\"Vikings and Saxons are still in the thick of battle\")\n",
    "        Flag=True"
   ]
  },
  {
   "cell_type": "markdown",
   "metadata": {},
   "source": [
    "### Start the battle\n",
    "\n",
    "Now you have all you need to simulate the battle. First, create the soldiers.\n",
    "\n",
    "**Create as many `Viking` instances as teachers in your class and give them the appropriate names. Remember to add them to the `viking_army`.** All vikings have 100 health points and 50 strength points."
   ]
  },
  {
   "cell_type": "code",
   "execution_count": 9,
   "metadata": {},
   "outputs": [],
   "source": [
    "\n",
    "zeplam=bs.Viking(100,50,'zeplam')\n",
    "congol=bs.Viking(100,50,'congol')\n",
    "raven=bs.Viking(100,50,'raven')\n",
    "\n",
    "add_viking(zeplam)\n",
    "add_viking(congol)\n",
    "add_viking(raven)"
   ]
  },
  {
   "cell_type": "markdown",
   "metadata": {},
   "source": [
    "**Create as many `Saxons` instances as students in your class. Remember to add them to the `saxon_army`.** All saxons have 100 health points and 15 strength points."
   ]
  },
  {
   "cell_type": "code",
   "execution_count": 10,
   "metadata": {},
   "outputs": [],
   "source": [
    "saxon1=bs.Saxon(100,15)\n",
    "saxon2=bs.Saxon(100,15)\n",
    "saxon3=bs.Saxon(100,15)\n",
    "saxon4=bs.Saxon(100,15)\n",
    "saxon5=bs.Saxon(100,15)\n",
    "saxon6=bs.Saxon(100,15)\n",
    "\n",
    "add_saxon(saxon1)\n",
    "add_saxon(saxon2)\n",
    "add_saxon(saxon3)\n",
    "add_saxon(saxon4)\n",
    "add_saxon(saxon5)\n",
    "add_saxon(saxon6)"
   ]
  },
  {
   "cell_type": "markdown",
   "metadata": {},
   "source": [
    "**Finally, write the execution of the battle.**\n",
    "You will need to create a battle loop. In each iteration:\n",
    "\n",
    "- Vikings will attack first. \n",
    "- After the attack, a message of the Saxon soldier status must be printed. \n",
    "- Saxons will attack last. \n",
    "- After the attack, a message of the Viking soldier status must be printed.\n",
    "- At the end of an iteration, a message of the status of the battle must be printed.\n",
    "\n",
    "Remember to take into account that if any of the armies lose all their soldiers, the battle needs automatically and a message of the resolution of the battle must be printed."
   ]
  },
  {
   "cell_type": "code",
   "execution_count": 11,
   "metadata": {},
   "outputs": [
    {
     "name": "stdout",
     "output_type": "stream",
     "text": "A Saxon has received  50  of damage \n"
    },
    {
     "ename": "AttributeError",
     "evalue": "'Saxon' object has no attribute 'strenght'",
     "output_type": "error",
     "traceback": [
      "\u001b[0;31m---------------------------------------------------------------------------\u001b[0m",
      "\u001b[0;31mAttributeError\u001b[0m                            Traceback (most recent call last)",
      "\u001b[0;32m<ipython-input-11-56bffd38e241>\u001b[0m in \u001b[0;36m<module>\u001b[0;34m\u001b[0m\n\u001b[1;32m      3\u001b[0m \u001b[0;32mwhile\u001b[0m \u001b[0;32mTrue\u001b[0m\u001b[0;34m:\u001b[0m\u001b[0;34m\u001b[0m\u001b[0;34m\u001b[0m\u001b[0m\n\u001b[1;32m      4\u001b[0m     \u001b[0;32mif\u001b[0m \u001b[0mFlag\u001b[0m \u001b[0;34m==\u001b[0m \u001b[0;32mTrue\u001b[0m\u001b[0;34m:\u001b[0m\u001b[0;34m\u001b[0m\u001b[0;34m\u001b[0m\u001b[0m\n\u001b[0;32m----> 5\u001b[0;31m         \u001b[0mviking_attack\u001b[0m\u001b[0;34m(\u001b[0m\u001b[0;34m)\u001b[0m\u001b[0;34m\u001b[0m\u001b[0;34m\u001b[0m\u001b[0m\n\u001b[0m\u001b[1;32m      6\u001b[0m         \u001b[0msaxon_attack\u001b[0m\u001b[0;34m(\u001b[0m\u001b[0;34m)\u001b[0m\u001b[0;34m\u001b[0m\u001b[0;34m\u001b[0m\u001b[0m\n\u001b[1;32m      7\u001b[0m         \u001b[0mshow_status\u001b[0m\u001b[0;34m(\u001b[0m\u001b[0;34m)\u001b[0m\u001b[0;34m\u001b[0m\u001b[0;34m\u001b[0m\u001b[0m\n",
      "\u001b[0;32m<ipython-input-7-4fa368087be1>\u001b[0m in \u001b[0;36mviking_attack\u001b[0;34m()\u001b[0m\n\u001b[1;32m      4\u001b[0m     \u001b[0ms\u001b[0m\u001b[0;34m=\u001b[0m\u001b[0mrandom\u001b[0m\u001b[0;34m.\u001b[0m\u001b[0mchoice\u001b[0m\u001b[0;34m(\u001b[0m\u001b[0msaxon_army\u001b[0m\u001b[0;34m)\u001b[0m\u001b[0;34m\u001b[0m\u001b[0;34m\u001b[0m\u001b[0m\n\u001b[1;32m      5\u001b[0m     \u001b[0ms\u001b[0m\u001b[0;34m.\u001b[0m\u001b[0mrecieve_damage\u001b[0m\u001b[0;34m(\u001b[0m\u001b[0mint\u001b[0m\u001b[0;34m(\u001b[0m\u001b[0mv\u001b[0m\u001b[0;34m.\u001b[0m\u001b[0mstrength\u001b[0m\u001b[0;34m)\u001b[0m\u001b[0;34m)\u001b[0m\u001b[0;34m\u001b[0m\u001b[0;34m\u001b[0m\u001b[0m\n\u001b[0;32m----> 6\u001b[0;31m     \u001b[0mprint\u001b[0m\u001b[0;34m(\u001b[0m\u001b[0mint\u001b[0m\u001b[0;34m(\u001b[0m\u001b[0ms\u001b[0m\u001b[0;34m.\u001b[0m\u001b[0mstrenght\u001b[0m\u001b[0;34m)\u001b[0m\u001b[0;34m)\u001b[0m\u001b[0;34m\u001b[0m\u001b[0;34m\u001b[0m\u001b[0m\n\u001b[0m\u001b[1;32m      7\u001b[0m     \u001b[0;32mif\u001b[0m \u001b[0ms\u001b[0m\u001b[0;34m.\u001b[0m\u001b[0mhealth\u001b[0m\u001b[0;34m<\u001b[0m\u001b[0;36m0\u001b[0m\u001b[0;34m:\u001b[0m\u001b[0;34m\u001b[0m\u001b[0;34m\u001b[0m\u001b[0m\n\u001b[1;32m      8\u001b[0m         \u001b[0msaxon_army\u001b[0m\u001b[0;34m.\u001b[0m\u001b[0mremove\u001b[0m\u001b[0;34m(\u001b[0m\u001b[0ms\u001b[0m\u001b[0;34m)\u001b[0m\u001b[0;34m\u001b[0m\u001b[0;34m\u001b[0m\u001b[0m\n",
      "\u001b[0;31mAttributeError\u001b[0m: 'Saxon' object has no attribute 'strenght'"
     ]
    }
   ],
   "source": [
    "# your code here\n",
    "\n",
    "while True:\n",
    "    if Flag == True:\n",
    "        viking_attack()\n",
    "        saxon_attack()\n",
    "        show_status()"
   ]
  },
  {
   "cell_type": "code",
   "execution_count": null,
   "metadata": {},
   "outputs": [],
   "source": []
  }
 ],
 "metadata": {
  "file_extension": ".py",
  "kernelspec": {
   "display_name": "Python 3",
   "language": "python",
   "name": "python3"
  },
  "language_info": {
   "codemirror_mode": {
    "name": "ipython",
    "version": 3
   },
   "file_extension": ".py",
   "mimetype": "text/x-python",
   "name": "python",
   "nbconvert_exporter": "python",
   "pygments_lexer": "ipython3",
   "version": "3.7.4"
  },
  "mimetype": "text/x-python",
  "name": "python",
  "npconvert_exporter": "python",
  "pygments_lexer": "ipython3",
  "version": 3
 },
 "nbformat": 4,
 "nbformat_minor": 2
}